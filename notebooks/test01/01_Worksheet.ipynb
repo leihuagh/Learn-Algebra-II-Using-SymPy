{
 "cells": [
  {
   "cell_type": "markdown",
   "metadata": {},
   "source": [
    "# Worksheet 01 - 01~10"
   ]
  },
  {
   "cell_type": "code",
   "execution_count": 1,
   "metadata": {},
   "outputs": [],
   "source": [
    "from sympy import *\n",
    "from sympy.plotting import plot, plot3d\n",
    "import matplotlib.pyplot as plt\n",
    "%matplotlib inline\n",
    "\n",
    "plt.rcParams['figure.figsize'] = 10, 10\n",
    "init_printing()\n",
    "x, y, a, b, k, A, B, K, sh, r = symbols('x y a b k A B K sh r')"
   ]
  },
  {
   "cell_type": "markdown",
   "metadata": {},
   "source": [
    "1. If $a(x+2) + b(x-1)=3$ for all x, then $a=$\n",
    "\n",
    "```\n",
    "(A) -1  (B) 0  (C) 1  (D) 2  (E) 3\n",
    "```"
   ]
  },
  {
   "cell_type": "markdown",
   "metadata": {},
   "source": [
    "#### Solution"
   ]
  },
  {
   "cell_type": "markdown",
   "metadata": {},
   "source": [
    "$$a(x+2)+b(x-1)=3$$\n",
    "$$ax+2a+bx-b=3$$\n",
    "$$(a+b)x+(2a-b)=3$$\n",
    "\\begin{aligned}\\\\ \\swarrow\\quad&\\searrow \\\\\\\\ a+b=0\\text{ or }&2a-b=3 \\\\ \\end{aligned}"
   ]
  },
  {
   "cell_type": "code",
   "execution_count": 2,
   "metadata": {},
   "outputs": [
    {
     "data": {
      "image/png": "[encoded data removed]",
      "text/latex": [
       "$$\\left \\{ a : 1, \\quad b : -1\\right \\}$$"
      ],
      "text/plain": [
       "{a: 1, b: -1}"
      ]
     },
     "execution_count": 2,
     "metadata": {},
     "output_type": "execute_result"
    }
   ],
   "source": [
    "solve((a*(x+2))+b*(x-1)-3, a, b)"
   ]
  },
  {
   "cell_type": "markdown",
   "metadata": {},
   "source": [
    "#### Answer: (C)"
   ]
  },
  {
   "cell_type": "markdown",
   "metadata": {},
   "source": [
    "2. If $a+b=2$ and $ab=-1$, then $a^2+b^2=$\n",
    "\n",
    "```\n",
    "(A) 4  (B) 5  (C) 6  (D) 8  (E) 10\n",
    "```"
   ]
  },
  {
   "cell_type": "markdown",
   "metadata": {},
   "source": [
    "#### Solution"
   ]
  },
  {
   "cell_type": "markdown",
   "metadata": {},
   "source": [
    "- By my work"
   ]
  },
  {
   "cell_type": "markdown",
   "metadata": {},
   "source": [
    "$\n",
    "\\begin{align}\n",
    "a^2+b^2 & = a^2+b^2+2ab-2ab\\\\\n",
    "& = (a+b)^2-2ab\n",
    "\\end{align}\n",
    "$"
   ]
  },
  {
   "cell_type": "markdown",
   "metadata": {},
   "source": [
    "- By SymPy"
   ]
  },
  {
   "cell_type": "code",
   "execution_count": 3,
   "metadata": {},
   "outputs": [
    {
     "data": {
      "image/png": "[encoded data removed]",
      "text/latex": [
       "$$6$$"
      ],
      "text/plain": [
       "6"
      ]
     },
     "execution_count": 3,
     "metadata": {},
     "output_type": "execute_result"
    }
   ],
   "source": [
    "expr = (a+b)*(a+b)-2*a*b\n",
    "expr.subs([(a+b, 2), (a*b, -1)])"
   ]
  },
  {
   "cell_type": "markdown",
   "metadata": {},
   "source": [
    "#### Answer: (C)"
   ]
  },
  {
   "cell_type": "markdown",
   "metadata": {},
   "source": [
    "3. If the graphs of $3x+4y=5$ and $kx+2y=5$ are perpendicular, then $k=$\n",
    "\n",
    "```\n",
    "(A) -2  (B) -2.67  (C) 2.15  (D) 3.20  (E) 4  \n",
    "```"
   ]
  },
  {
   "cell_type": "markdown",
   "metadata": {},
   "source": [
    "#### Solution"
   ]
  },
  {
   "cell_type": "markdown",
   "metadata": {},
   "source": [
    "- From given\n",
    "\n",
    "$$3x+4y=5 \\Rightarrow slop1=-\\frac{3}{4}$$\n",
    "$$kx+2y=5 \\Rightarrow slop2=-\\frac{k}{2}$$\n",
    "$$slop1*slop2=-1$$\n",
    "$$(-\\frac{3}{4})*(-\\frac{k}{2})=-1$$\n",
    "$$3k=-8$$\n",
    "$$k\\approx-2.67$$"
   ]
  },
  {
   "cell_type": "code",
   "execution_count": 4,
   "metadata": {},
   "outputs": [
    {
     "data": {
      "image/png": "[encoded data removed]",
      "text/latex": [
       "$$\\left [ -2.66666666666667\\right ]$$"
      ],
      "text/plain": [
       "[-2.66666666666667]"
      ]
     },
     "execution_count": 4,
     "metadata": {},
     "output_type": "execute_result"
    }
   ],
   "source": [
    "solve((-3/4)*(-k/2)+1, k)"
   ]
  },
  {
   "cell_type": "markdown",
   "metadata": {},
   "source": [
    "#### Answer: (B)"
   ]
  },
  {
   "cell_type": "markdown",
   "metadata": {},
   "source": [
    "4. If $K=\\frac{AB}{A+B}$, then $B=$"
   ]
  },
  {
   "cell_type": "markdown",
   "metadata": {},
   "source": [
    "$\n",
    "\\begin{align}\n",
    "&(A) \\space \\frac{A}{1-A}\\\\\n",
    "&(B) \\space \\frac{AK}{A-K}\\\\\n",
    "&(C) \\space \\frac{AK}{K-A}\\\\\n",
    "&(D) \\space \\frac{A+K}{A}\\\\\n",
    "&(E) \\space \\frac{A-K}{AK}\n",
    "\\end{align}\n",
    "$"
   ]
  },
  {
   "cell_type": "markdown",
   "metadata": {},
   "source": [
    "#### Solution"
   ]
  },
  {
   "cell_type": "markdown",
   "metadata": {},
   "source": [
    "- By my work"
   ]
  },
  {
   "cell_type": "markdown",
   "metadata": {},
   "source": [
    "$$K=\\frac{AB}{A+B}$$\n",
    "$$K(A+B)=AB$$\n",
    "$$KA+KB=AB$$\n",
    "$$KA=(A-K)B$$\n",
    "$$(A-K)B=KA$$\n",
    "$$B=\\frac{KA}{A-K}$$"
   ]
  },
  {
   "cell_type": "markdown",
   "metadata": {},
   "source": [
    "- By SymPy"
   ]
  },
  {
   "cell_type": "code",
   "execution_count": 5,
   "metadata": {},
   "outputs": [
    {
     "data": {
      "image/png": "[encoded data removed]",
      "text/latex": [
       "$$\\left [ \\frac{A K}{A - K}\\right ]$$"
      ],
      "text/plain": [
       "⎡ A⋅K ⎤\n",
       "⎢─────⎥\n",
       "⎣A - K⎦"
      ]
     },
     "execution_count": 5,
     "metadata": {},
     "output_type": "execute_result"
    }
   ],
   "source": [
    "solve(Eq(K, (A*B)/(A+B)), B)"
   ]
  },
  {
   "cell_type": "markdown",
   "metadata": {},
   "source": [
    "#### Answer: (B)"
   ]
  },
  {
   "cell_type": "markdown",
   "metadata": {},
   "source": [
    "5. If $\\log 3 = a$, then $\\log 90=$"
   ]
  },
  {
   "cell_type": "markdown",
   "metadata": {},
   "source": [
    "$\n",
    "\\begin{align}\n",
    "&(A) \\space 1+2𝑎\\\\\n",
    "&(B) \\space 10a^2\\\\\n",
    "&(C) \\space 10+2a\\\\\n",
    "&(D) \\space 30a\\\\\n",
    "&(E) \\space 10+3a\n",
    "\\end{align}\n",
    "$"
   ]
  },
  {
   "cell_type": "markdown",
   "metadata": {},
   "source": [
    "#### Solution"
   ]
  },
  {
   "cell_type": "markdown",
   "metadata": {},
   "source": [
    "- By my work"
   ]
  },
  {
   "cell_type": "markdown",
   "metadata": {},
   "source": [
    "$\n",
    "\\begin{align}\n",
    "\\log{90} & = \\log{(9∗10)}\\\\\n",
    "& = \\log{(9)} + \\log{(10)}\\\\\n",
    "& = \\log{3^2}+1\\\\\n",
    "& = 2 \\log{3}+1\\\\\n",
    "& = 2a+1\n",
    "\\end{align}\n",
    "$"
   ]
  },
  {
   "cell_type": "markdown",
   "metadata": {},
   "source": [
    "- By SymPy"
   ]
  },
  {
   "cell_type": "code",
   "execution_count": 6,
   "metadata": {},
   "outputs": [
    {
     "data": {
      "image/png": "[encoded data removed]",
      "text/latex": [
       "$$2 a + 1$$"
      ],
      "text/plain": [
       "2⋅a + 1"
      ]
     },
     "execution_count": 6,
     "metadata": {},
     "output_type": "execute_result"
    }
   ],
   "source": [
    "expr = 2*log(3)+1\n",
    "expr.subs(log(3), a)"
   ]
  },
  {
   "cell_type": "markdown",
   "metadata": {},
   "source": [
    "#### Answer: (A)"
   ]
  },
  {
   "cell_type": "markdown",
   "metadata": {},
   "source": [
    "6. If $f(x) = 3 \\ln x$ and $g(x) = e^x$, then $g(f(x))=$"
   ]
  },
  {
   "cell_type": "markdown",
   "metadata": {},
   "source": [
    "$\n",
    "\\begin{align}\n",
    "&(A) \\space 3x\\\\\n",
    "&(B) \\space e^x\\\\\n",
    "&(C) \\space e^{2x}\\\\\n",
    "&(D) \\space x^3\\\\\n",
    "&(E) \\space x^2+1\n",
    "\\end{align}\n",
    "$"
   ]
  },
  {
   "cell_type": "markdown",
   "metadata": {},
   "source": [
    "#### Solution"
   ]
  },
  {
   "cell_type": "markdown",
   "metadata": {},
   "source": [
    "$g(f(x)) = e^{f(x)} = e^{3 \\ln x} = e^{\\ln x^{3}} = x^3$"
   ]
  },
  {
   "cell_type": "code",
   "execution_count": 7,
   "metadata": {},
   "outputs": [
    {
     "data": {
      "image/png": "[encoded data removed]",
      "text/latex": [
       "$$\\log{\\left (x^{3} \\right )}$$"
      ],
      "text/plain": [
       "   ⎛ 3⎞\n",
       "log⎝x ⎠"
      ]
     },
     "execution_count": 7,
     "metadata": {},
     "output_type": "execute_result"
    }
   ],
   "source": [
    "F = logcombine(3*ln(x), force=True)\n",
    "F"
   ]
  },
  {
   "cell_type": "code",
   "execution_count": 8,
   "metadata": {},
   "outputs": [
    {
     "data": {
      "image/png": "[encoded data removed]",
      "text/latex": [
       "$$x^{3}$$"
      ],
      "text/plain": [
       " 3\n",
       "x "
      ]
     },
     "execution_count": 8,
     "metadata": {},
     "output_type": "execute_result"
    }
   ],
   "source": [
    "G = exp(x).subs(x, F)\n",
    "G"
   ]
  },
  {
   "cell_type": "markdown",
   "metadata": {},
   "source": [
    "#### Answer: (D)"
   ]
  },
  {
   "cell_type": "markdown",
   "metadata": {},
   "source": [
    "7. The slant height of a regular circular cone is $20$ cm and the radius of the base is $10$ cm.  Find the volume of the cone?"
   ]
  },
  {
   "cell_type": "markdown",
   "metadata": {},
   "source": [
    "$\n",
    "\\begin{align}\n",
    "&(A) \\space 1813.8cm^3\\\\\n",
    "&(B) \\space 3000.5cm^3\\\\\n",
    "&(C) \\space 4120.4cm^3\\\\  \n",
    "&(D) \\space 7024.8cm^3\\\\\n",
    "&(E) \\space 7046.6cm^3\\\\\n",
    "\\end{align}\n",
    "$"
   ]
  },
  {
   "cell_type": "markdown",
   "metadata": {},
   "source": [
    "#### Solution"
   ]
  },
  {
   "cell_type": "markdown",
   "metadata": {},
   "source": [
    "- By my work"
   ]
  },
  {
   "cell_type": "markdown",
   "metadata": {},
   "source": [
    "$$V(r, h) = \\frac{1}{3} \\pi r^{2} h$$\n",
    "$$h(r, sh) = \\sqrt{sh^2-r^2}$$"
   ]
  },
  {
   "cell_type": "markdown",
   "metadata": {},
   "source": [
    "$$\n",
    "\\begin{align}\n",
    "V(r, sh) & = \\frac{1}{3} \\pi r^2 \\sqrt{sh^2-r^2}\\\\\n",
    "& = \\frac{1}{3} \\pi {10}^2 \\sqrt{{20}^2-{10}^2} \\\\\n",
    "& = 1813.8\n",
    "\\end{align}\n",
    "$$"
   ]
  },
  {
   "cell_type": "markdown",
   "metadata": {},
   "source": [
    "- By SymPy"
   ]
  },
  {
   "cell_type": "code",
   "execution_count": 9,
   "metadata": {},
   "outputs": [
    {
     "data": {
      "image/png": "[encoded data removed]",
      "text/latex": [
       "$$\\frac{\\pi r^{2} \\sqrt{- r^{2} + sh^{2}}}{3}$$"
      ],
      "text/plain": [
       "        ____________\n",
       "   2   ╱    2     2 \n",
       "π⋅r ⋅╲╱  - r  + sh  \n",
       "────────────────────\n",
       "         3          "
      ]
     },
     "execution_count": 9,
     "metadata": {},
     "output_type": "execute_result"
    }
   ],
   "source": [
    "expr = (sympify(1)/sympify(3)) * pi * r**2 * sqrt(sh**2-r**2)\n",
    "expr"
   ]
  },
  {
   "cell_type": "code",
   "execution_count": 10,
   "metadata": {},
   "outputs": [
    {
     "data": {
      "image/png": "[encoded data removed]",
      "text/latex": [
       "$$\\frac{1000 \\sqrt{3} \\pi}{3}$$"
      ],
      "text/plain": [
       "1000⋅√3⋅π\n",
       "─────────\n",
       "    3    "
      ]
     },
     "execution_count": 10,
     "metadata": {},
     "output_type": "execute_result"
    }
   ],
   "source": [
    "result = expr.subs([(r, 10), (sh, 20)])\n",
    "result"
   ]
  },
  {
   "cell_type": "code",
   "execution_count": 11,
   "metadata": {},
   "outputs": [
    {
     "data": {
      "image/png": "[encoded data removed]",
      "text/latex": [
       "$$1813.8$$"
      ],
      "text/plain": [
       "1813.80"
      ]
     },
     "execution_count": 11,
     "metadata": {},
     "output_type": "execute_result"
    }
   ],
   "source": [
    "result.evalf(6)"
   ]
  },
  {
   "cell_type": "markdown",
   "metadata": {},
   "source": [
    "#### Answer: (A)"
   ]
  },
  {
   "cell_type": "markdown",
   "metadata": {},
   "source": [
    "8. If $2 - i$ is one of the zeros of the polynomial $p(x)$, then a factor of $p(x)$ could be"
   ]
  },
  {
   "cell_type": "markdown",
   "metadata": {},
   "source": [
    "$\n",
    "\\begin{align}\n",
    "& (𝐴) \\space 𝑥^2−2\\\\\n",
    "& (B) \\space x^2-4\\\\\n",
    "& (C) \\space x^2-4x+4\\\\\n",
    "& (D) \\space x^2-4x+5\\\\\n",
    "& (E) \\space x^2+4x+3\n",
    "\\end{align}\n",
    "$"
   ]
  },
  {
   "cell_type": "markdown",
   "metadata": {},
   "source": [
    "#### Solution"
   ]
  },
  {
   "cell_type": "markdown",
   "metadata": {},
   "source": [
    "$\n",
    "\\begin{align}\n",
    "(A) \\space x^2-2 = (x-\\sqrt{2})(x+\\sqrt{2}) \\\\\n",
    "x \\in \\{-\\sqrt{2}, \\sqrt{2}\\} \\\\\n",
    "\\end{align}\n",
    "$"
   ]
  },
  {
   "cell_type": "markdown",
   "metadata": {},
   "source": [
    "$\n",
    "\\begin{align}\n",
    "(B) \\space x^2-4 = (x-2)(x+2) \\\\\n",
    "x \\in \\{-2, 2\\} \\\\\n",
    "\\end{align}\n",
    "$"
   ]
  },
  {
   "cell_type": "markdown",
   "metadata": {},
   "source": [
    "$\n",
    "\\begin{align}\n",
    "(C) \\space x^2-4x+4 = (x-2)^2 \\\\\n",
    "x \\in \\{2\\} \\\\\n",
    "\\end{align}\n",
    "$"
   ]
  },
  {
   "cell_type": "markdown",
   "metadata": {},
   "source": [
    "$\n",
    "\\begin{align}\n",
    "(D) \\space x^2-4x+5=x^2-4x+4+1=(x-2)^2-i^2=(x-2+i)(x-2-i) \\\\\n",
    "x \\in \\{2-i, 2+i\\} \\\\\n",
    "\\end{align}\n",
    "$"
   ]
  },
  {
   "cell_type": "markdown",
   "metadata": {},
   "source": [
    "$\n",
    "\\begin{align}\n",
    "(E) \\space x^2+4x+3=(x+3)(x+1) \\\\\n",
    "x \\in \\{-3, -1\\} \\\\\n",
    "\\end{align}\n",
    "$"
   ]
  },
  {
   "cell_type": "markdown",
   "metadata": {},
   "source": [
    "- For (A)"
   ]
  },
  {
   "cell_type": "code",
   "execution_count": 12,
   "metadata": {},
   "outputs": [
    {
     "data": {
      "image/png": "[encoded data removed]",
      "text/latex": [
       "$$x^{2} - 2 = 0$$"
      ],
      "text/plain": [
       " 2        \n",
       "x  - 2 = 0"
      ]
     },
     "execution_count": 12,
     "metadata": {},
     "output_type": "execute_result"
    }
   ],
   "source": [
    "eq = Eq((x**2)-2)\n",
    "eq"
   ]
  },
  {
   "cell_type": "code",
   "execution_count": 13,
   "metadata": {},
   "outputs": [
    {
     "data": {
      "image/png": "[encoded data removed]",
      "text/latex": [
       "$$\\left [ - \\sqrt{2}, \\quad \\sqrt{2}\\right ]$$"
      ],
      "text/plain": [
       "[-√2, √2]"
      ]
     },
     "execution_count": 13,
     "metadata": {},
     "output_type": "execute_result"
    }
   ],
   "source": [
    "solve(eq, x)"
   ]
  },
  {
   "cell_type": "markdown",
   "metadata": {},
   "source": [
    "- For (B)"
   ]
  },
  {
   "cell_type": "code",
   "execution_count": 14,
   "metadata": {},
   "outputs": [
    {
     "data": {
      "image/png": "[encoded data removed]",
      "text/latex": [
       "$$x^{2} - 4 = 0$$"
      ],
      "text/plain": [
       " 2        \n",
       "x  - 4 = 0"
      ]
     },
     "execution_count": 14,
     "metadata": {},
     "output_type": "execute_result"
    }
   ],
   "source": [
    "eq = Eq((x**2)-4)\n",
    "eq"
   ]
  },
  {
   "cell_type": "code",
   "execution_count": 15,
   "metadata": {},
   "outputs": [
    {
     "data": {
      "image/png": "[encoded data removed]",
      "text/latex": [
       "$$\\left [ -2, \\quad 2\\right ]$$"
      ],
      "text/plain": [
       "[-2, 2]"
      ]
     },
     "execution_count": 15,
     "metadata": {},
     "output_type": "execute_result"
    }
   ],
   "source": [
    "solve(eq, x)"
   ]
  },
  {
   "cell_type": "markdown",
   "metadata": {},
   "source": [
    "- For (C)"
   ]
  },
  {
   "cell_type": "code",
   "execution_count": 16,
   "metadata": {},
   "outputs": [
    {
     "data": {
      "image/png": "[encoded data removed]",
      "text/latex": [
       "$$x^{2} - 4 x + 4$$"
      ],
      "text/plain": [
       " 2          \n",
       "x  - 4⋅x + 4"
      ]
     },
     "execution_count": 16,
     "metadata": {},
     "output_type": "execute_result"
    }
   ],
   "source": [
    "eq = (x**2)-(4*x)+4\n",
    "eq"
   ]
  },
  {
   "cell_type": "code",
   "execution_count": 17,
   "metadata": {},
   "outputs": [
    {
     "data": {
      "image/png": "[encoded data removed]",
      "text/latex": [
       "$$\\left [ 2\\right ]$$"
      ],
      "text/plain": [
       "[2]"
      ]
     },
     "execution_count": 17,
     "metadata": {},
     "output_type": "execute_result"
    }
   ],
   "source": [
    "solve(eq, x)"
   ]
  },
  {
   "cell_type": "code",
   "execution_count": 18,
   "metadata": {},
   "outputs": [
    {
     "data": {
      "image/png": "[encoded data removed]",
      "text/latex": [
       "$$x^{2} - 4 x + 5$$"
      ],
      "text/plain": [
       " 2          \n",
       "x  - 4⋅x + 5"
      ]
     },
     "execution_count": 18,
     "metadata": {},
     "output_type": "execute_result"
    }
   ],
   "source": [
    "eq = x**2-4*x+5\n",
    "eq"
   ]
  },
  {
   "cell_type": "code",
   "execution_count": 19,
   "metadata": {},
   "outputs": [
    {
     "data": {
      "image/png": "[encoded data removed]",
      "text/latex": [
       "$$\\left [ 2 - i, \\quad 2 + i\\right ]$$"
      ],
      "text/plain": [
       "[2 - ⅈ, 2 + ⅈ]"
      ]
     },
     "execution_count": 19,
     "metadata": {},
     "output_type": "execute_result"
    }
   ],
   "source": [
    "solve(eq, x)"
   ]
  },
  {
   "cell_type": "code",
   "execution_count": 20,
   "metadata": {},
   "outputs": [
    {
     "data": {
      "image/png": "[encoded data removed]",
      "text/latex": [
       "$$x^{2} + 4 x + 3$$"
      ],
      "text/plain": [
       " 2          \n",
       "x  + 4⋅x + 3"
      ]
     },
     "execution_count": 20,
     "metadata": {},
     "output_type": "execute_result"
    }
   ],
   "source": [
    "eq = x**2+4*x+3\n",
    "eq"
   ]
  },
  {
   "cell_type": "code",
   "execution_count": 21,
   "metadata": {},
   "outputs": [
    {
     "data": {
      "image/png": "[encoded data removed]",
      "text/latex": [
       "$$\\left [ -3, \\quad -1\\right ]$$"
      ],
      "text/plain": [
       "[-3, -1]"
      ]
     },
     "execution_count": 21,
     "metadata": {},
     "output_type": "execute_result"
    }
   ],
   "source": [
    "solve(eq, x)"
   ]
  },
  {
   "cell_type": "markdown",
   "metadata": {},
   "source": [
    "#### Answer: (D)"
   ]
  },
  {
   "cell_type": "markdown",
   "metadata": {},
   "source": [
    "9. When a ploynomial function $f(x)=x^2+5x-k$ is divided by $(x-2)$, the remainder $5$.  What is the value of $k$?"
   ]
  },
  {
   "cell_type": "markdown",
   "metadata": {},
   "source": [
    "$\n",
    "\\begin{align}\n",
    "&(A) \\space 19\\\\\n",
    "&(B) \\space 18\\\\\n",
    "&(C) \\space 16\\\\  \n",
    "&(D) \\space 10\\\\\n",
    "&(E) \\space 9\\\\\n",
    "\\end{align}\n",
    "$"
   ]
  },
  {
   "cell_type": "markdown",
   "metadata": {},
   "source": [
    "#### Solution"
   ]
  },
  {
   "cell_type": "markdown",
   "metadata": {},
   "source": [
    "- By my work"
   ]
  },
  {
   "cell_type": "markdown",
   "metadata": {},
   "source": [
    "$f(x) = x^2 + 5x - k = (x-2)Q(x) + R$"
   ]
  },
  {
   "cell_type": "markdown",
   "metadata": {},
   "source": [
    "When $x=2$, $R=5$"
   ]
  },
  {
   "cell_type": "markdown",
   "metadata": {},
   "source": [
    "$\n",
    "\\begin{align}\n",
    "f(2) = 2^2+5*2-k = 4+10-k=5\\\\\n",
    "14-k=5\\\\\n",
    "k=14-5=9\n",
    "\\end{align}\n",
    "$"
   ]
  },
  {
   "cell_type": "markdown",
   "metadata": {},
   "source": [
    "- By SymPy"
   ]
  },
  {
   "cell_type": "markdown",
   "metadata": {},
   "source": [
    "#### Method 1"
   ]
  },
  {
   "cell_type": "code",
   "execution_count": 22,
   "metadata": {},
   "outputs": [
    {
     "data": {
      "image/png": "[encoded data removed]",
      "text/latex": [
       "$$\\left ( x + 7, \\quad - k + 14\\right )$$"
      ],
      "text/plain": [
       "(x + 7, -k + 14)"
      ]
     },
     "execution_count": 22,
     "metadata": {},
     "output_type": "execute_result"
    }
   ],
   "source": [
    "pdiv(x**2 + 5*x - k, x - 2)"
   ]
  },
  {
   "cell_type": "code",
   "execution_count": 23,
   "metadata": {},
   "outputs": [
    {
     "data": {
      "image/png": "[encoded data removed]",
      "text/latex": [
       "$$- k + 14 = 5$$"
      ],
      "text/plain": [
       "-k + 14 = 5"
      ]
     },
     "execution_count": 23,
     "metadata": {},
     "output_type": "execute_result"
    }
   ],
   "source": [
    "eq = Eq(-k+14, 5)\n",
    "eq"
   ]
  },
  {
   "cell_type": "code",
   "execution_count": 24,
   "metadata": {},
   "outputs": [
    {
     "data": {
      "image/png": "[encoded data removed]",
      "text/latex": [
       "$$\\left [ 9\\right ]$$"
      ],
      "text/plain": [
       "[9]"
      ]
     },
     "execution_count": 24,
     "metadata": {},
     "output_type": "execute_result"
    }
   ],
   "source": [
    "solve(eq, k)"
   ]
  },
  {
   "cell_type": "markdown",
   "metadata": {},
   "source": [
    "#### Method 2"
   ]
  },
  {
   "cell_type": "code",
   "execution_count": 25,
   "metadata": {},
   "outputs": [
    {
     "data": {
      "image/png": "[encoded data removed]",
      "text/latex": [
       "$$- k + 14 = 5$$"
      ],
      "text/plain": [
       "-k + 14 = 5"
      ]
     },
     "execution_count": 25,
     "metadata": {},
     "output_type": "execute_result"
    }
   ],
   "source": [
    "eq = Eq(prem(x**2 + 5*x - k, x - 2), 5)\n",
    "eq"
   ]
  },
  {
   "cell_type": "code",
   "execution_count": 26,
   "metadata": {},
   "outputs": [
    {
     "data": {
      "image/png": "[encoded data removed]",
      "text/latex": [
       "$$\\left [ 9\\right ]$$"
      ],
      "text/plain": [
       "[9]"
      ]
     },
     "execution_count": 26,
     "metadata": {},
     "output_type": "execute_result"
    }
   ],
   "source": [
    "solve(eq, k)"
   ]
  },
  {
   "cell_type": "markdown",
   "metadata": {},
   "source": [
    "#### Answer: (E)"
   ]
  },
  {
   "cell_type": "markdown",
   "metadata": {},
   "source": [
    "10. A cube with edge of length $6$, what is the length of diagonal $\\overline{PQ}$?"
   ]
  },
  {
   "cell_type": "markdown",
   "metadata": {},
   "source": [
    "$\n",
    "\\begin{align}\n",
    "& (A) 18 \\\\\n",
    "& (B) 15 \\\\\n",
    "& (C) 6 \\sqrt{6} \\\\\n",
    "& (D) 6 \\sqrt{3} \\\\\n",
    "& (E) 6\\sqrt{2} \n",
    "\\end{align}\n",
    "$"
   ]
  },
  {
   "cell_type": "markdown",
   "metadata": {},
   "source": [
    "#### Solution"
   ]
  },
  {
   "cell_type": "markdown",
   "metadata": {},
   "source": [
    "- My work"
   ]
  },
  {
   "cell_type": "markdown",
   "metadata": {},
   "source": [
    "Set $a$ is `length` of cube, $sd$ is `surface diagonal`, $\\overline{PQ}$ is `cube diagonal`"
   ]
  },
  {
   "cell_type": "markdown",
   "metadata": {},
   "source": [
    "$sd = \\sqrt{a^2+a^2} = \\sqrt{2}a$"
   ]
  },
  {
   "cell_type": "markdown",
   "metadata": {},
   "source": [
    "$\n",
    "\\begin{align}\n",
    "\\overline{PQ} & = \\sqrt{(a^2+sd^2)}\\\\\n",
    "& = \\sqrt{(a^2+(\\sqrt{2}a)^2)}\\\\\n",
    "& = \\sqrt{3}a\\\\\n",
    "& = 6\\sqrt{3}\n",
    "\\end{align}\n",
    "$"
   ]
  },
  {
   "cell_type": "markdown",
   "metadata": {},
   "source": [
    "- By SymPy"
   ]
  },
  {
   "cell_type": "code",
   "execution_count": 27,
   "metadata": {},
   "outputs": [
    {
     "data": {
      "image/png": "[encoded data removed]",
      "text/latex": [
       "$$\\sqrt{3} \\sqrt{a^{2}}$$"
      ],
      "text/plain": [
       "      ____\n",
       "     ╱  2 \n",
       "√3⋅╲╱  a  "
      ]
     },
     "execution_count": 27,
     "metadata": {},
     "output_type": "execute_result"
    }
   ],
   "source": [
    "PQ = sqrt(a**2+(sqrt(a**2+a**2))**2)\n",
    "PQ"
   ]
  },
  {
   "cell_type": "code",
   "execution_count": 28,
   "metadata": {},
   "outputs": [
    {
     "data": {
      "image/png": "[encoded data removed]",
      "text/latex": [
       "$$6 \\sqrt{3}$$"
      ],
      "text/plain": [
       "6⋅√3"
      ]
     },
     "execution_count": 28,
     "metadata": {},
     "output_type": "execute_result"
    }
   ],
   "source": [
    "PQ.subs(a, 6)"
   ]
  },
  {
   "cell_type": "markdown",
   "metadata": {},
   "source": [
    "#### Answer: (D)"
   ]
  },
  {
   "cell_type": "code",
   "execution_count": null,
   "metadata": {},
   "outputs": [],
   "source": []
  }
 ],
 "metadata": {
  "kernelspec": {
   "display_name": "Python 3",
   "language": "python",
   "name": "python3"
  },
  "language_info": {
   "codemirror_mode": {
    "name": "ipython",
    "version": 3
   },
   "file_extension": ".py",
   "mimetype": "text/x-python",
   "name": "python",
   "nbconvert_exporter": "python",
   "pygments_lexer": "ipython3",
   "version": "3.7.3"
  }
 },
 "nbformat": 4,
 "nbformat_minor": 2
}
