{
 "cells": [
  {
   "cell_type": "markdown",
   "metadata": {},
   "source": [
    "# Worksheet 02"
   ]
  },
  {
   "cell_type": "code",
   "execution_count": 1,
   "metadata": {},
   "outputs": [],
   "source": [
    "from sympy import *\n",
    "from sympy.geometry import Line, Segment\n",
    "from sympy.plotting import plot, plot3d\n",
    "import matplotlib.pyplot as plt\n",
    "%matplotlib inline\n",
    "\n",
    "plt.rcParams['figure.figsize'] = 10, 10\n",
    "init_printing()\n",
    "x, y, a, b = symbols('x y a b')"
   ]
  },
  {
   "cell_type": "markdown",
   "metadata": {},
   "source": [
    "11. An equation of line $\\ell$, which has (3, 0) and (0, 4)"
   ]
  },
  {
   "cell_type": "markdown",
   "metadata": {},
   "source": [
    "$\n",
    "\\begin{align}\n",
    "&(A) \\space 3x-4y-4=0\\\\\n",
    "&(B) \\space 3x+4y-4=0\\\\\n",
    "&(C) \\space 4x-3y-4=0\\\\\n",
    "&(D) \\space 4x+3y+12=0\\\\\n",
    "&(E) \\space 4x+3y-12=0\n",
    "\\end{align}\n",
    "$"
   ]
  },
  {
   "cell_type": "markdown",
   "metadata": {},
   "source": [
    "#### Solution"
   ]
  },
  {
   "cell_type": "markdown",
   "metadata": {},
   "source": [
    "- By my work"
   ]
  },
  {
   "cell_type": "markdown",
   "metadata": {},
   "source": [
    "$\n",
    "\\begin{align}\n",
    "y & = \\frac{0-4}{3-0}(x-3) \\\\\n",
    "& = -\\frac{4}{3}(x-3) \\\\\n",
    "\\end{align}\n",
    "$"
   ]
  },
  {
   "cell_type": "markdown",
   "metadata": {},
   "source": [
    "$\n",
    "\\begin{align}\n",
    "&3y = -4(x-3)\\\\\n",
    "&3y = -4x-12\\\\\n",
    "&4x + 3y -12 = 0\n",
    "\\end{align}\n",
    "$"
   ]
  },
  {
   "cell_type": "markdown",
   "metadata": {},
   "source": [
    "- By Sympy"
   ]
  },
  {
   "cell_type": "code",
   "execution_count": 2,
   "metadata": {},
   "outputs": [
    {
     "data": {
      "image/png": "[encoded data removed]",
      "text/latex": [
       "$$4 x + 3 y - 12 = 0$$"
      ],
      "text/plain": [
       "4⋅x + 3⋅y - 12 = 0"
      ]
     },
     "execution_count": 2,
     "metadata": {},
     "output_type": "execute_result"
    }
   ],
   "source": [
    "L = Line(Point(3, 0), Point(0, 4))\n",
    "eq = Eq((-1)*L.equation())\n",
    "eq"
   ]
  },
  {
   "cell_type": "markdown",
   "metadata": {},
   "source": [
    "#### Answer: (E)"
   ]
  },
  {
   "cell_type": "markdown",
   "metadata": {},
   "source": [
    "12. The mean score of $10$ students of an algebra class was $85$.  When two new students enrolled, the mean inscreased to $86$.  What was the average of the new students?"
   ]
  },
  {
   "cell_type": "markdown",
   "metadata": {},
   "source": [
    "$\n",
    "\\begin{align}\n",
    "&(A) \\space 88\\\\\n",
    "&(B) \\space 89\\\\\n",
    "&(C) \\space 90\\\\\n",
    "&(D) \\space 91\\\\\n",
    "&(E) \\space 92\n",
    "\\end{align}\n",
    "$"
   ]
  },
  {
   "cell_type": "markdown",
   "metadata": {},
   "source": [
    "#### Solution"
   ]
  },
  {
   "cell_type": "markdown",
   "metadata": {},
   "source": [
    "- By my work"
   ]
  },
  {
   "cell_type": "markdown",
   "metadata": {},
   "source": [
    "Set the new students average score is $A_{new}$"
   ]
  },
  {
   "cell_type": "markdown",
   "metadata": {},
   "source": [
    "$\n",
    "\\begin{align}\n",
    "\\sum_{k=1}^{10} S_{10} & = 85 * 10 = 850\n",
    "\\end{align}\n",
    "$"
   ]
  },
  {
   "cell_type": "markdown",
   "metadata": {},
   "source": [
    "$\n",
    "\\begin{align}\n",
    "\\sum_{k=1}^{10} S_{10} + \\sum_{k=1}^{2} S_{new} = 850 + 2 * A_{new} = 86 * 12 = 1032\n",
    "\\end{align}\n",
    "$"
   ]
  },
  {
   "cell_type": "markdown",
   "metadata": {},
   "source": [
    "$\n",
    "\\begin{align}\n",
    "850 + 2 * A_{new} = 1032\n",
    "\\end{align}\n",
    "$"
   ]
  },
  {
   "cell_type": "markdown",
   "metadata": {},
   "source": [
    "$\n",
    "\\begin{align}\n",
    "A_{new} = \\frac{1032-850}{2} = 91\n",
    "\\end{align}\n",
    "$"
   ]
  },
  {
   "cell_type": "markdown",
   "metadata": {},
   "source": [
    "- By SymPy"
   ]
  },
  {
   "cell_type": "code",
   "execution_count": 3,
   "metadata": {},
   "outputs": [
    {
     "data": {
      "image/png": "[encoded data removed]",
      "text/latex": [
       "$$2 a + 850 = 1032$$"
      ],
      "text/plain": [
       "2⋅a + 850 = 1032"
      ]
     },
     "execution_count": 3,
     "metadata": {},
     "output_type": "execute_result"
    }
   ],
   "source": [
    "eq = Eq(85*10+2*a, 86*12)\n",
    "eq"
   ]
  },
  {
   "cell_type": "code",
   "execution_count": 4,
   "metadata": {},
   "outputs": [
    {
     "data": {
      "image/png": "[encoded data removed]",
      "text/latex": [
       "$$\\left [ 91\\right ]$$"
      ],
      "text/plain": [
       "[91]"
      ]
     },
     "execution_count": 4,
     "metadata": {},
     "output_type": "execute_result"
    }
   ],
   "source": [
    "solve(eq, a)"
   ]
  },
  {
   "cell_type": "markdown",
   "metadata": {},
   "source": [
    "#### Answer: (D)"
   ]
  },
  {
   "cell_type": "markdown",
   "metadata": {},
   "source": [
    "3. If $\\sin{\\theta}+cos{\\theta}=\\frac{1}{2}$, then $\\tan{\\theta}+\\cot{\\theta}=$"
   ]
  },
  {
   "cell_type": "markdown",
   "metadata": {},
   "source": [
    "$\n",
    "\\begin{align}\n",
    "&(A) \\space -4.12\\\\\n",
    "&(B) \\space -2.67\\\\\n",
    "&(C) \\space -1.35\\\\\n",
    "&(D) \\space 2.67\\\\\n",
    "&(E) \\space 4.12\n",
    "\\end{align}\n",
    "$"
   ]
  },
  {
   "cell_type": "markdown",
   "metadata": {},
   "source": [
    "#### Solution"
   ]
  },
  {
   "cell_type": "markdown",
   "metadata": {},
   "source": [
    "- By my work"
   ]
  },
  {
   "cell_type": "markdown",
   "metadata": {},
   "source": [
    "- Find out $\\sin{\\theta}\\cos{\\theta}$ ="
   ]
  },
  {
   "cell_type": "markdown",
   "metadata": {},
   "source": [
    "$\n",
    "\\begin{align}\n",
    "&\\sin{\\theta}+\\cos{\\theta}=\\frac{1}{2}\\\\\n",
    "&(\\sin{\\theta}+\\cos{\\theta})^2=(\\frac{1}{2})^2\\\\\n",
    "&\\sin{\\theta}^2+2\\sin{\\theta}\\cos{\\theta}+\\cos{\\theta}^2=\\frac{1}{4}\\\\\n",
    "&2\\sin{\\theta}\\cos{\\theta}+\\sin{\\theta}^2+\\cos{\\theta}^2=\\frac{1}{4}\\\\\n",
    "&2\\sin{\\theta}\\cos{\\theta}+1 = \\frac{1}{4}\\\\\n",
    "&\\sin{\\theta}\\cos{\\theta} = \\frac{-1+\\frac{1}{4}}{2}=-\\frac{3}{8}\\\\\n",
    "\\end{align}\n",
    "$"
   ]
  },
  {
   "cell_type": "markdown",
   "metadata": {},
   "source": [
    "- Find out $\\tan{\\theta}+\\cot{\\theta}$ ="
   ]
  },
  {
   "cell_type": "markdown",
   "metadata": {},
   "source": [
    "$\n",
    "\\begin{align}\n",
    "\\tan{\\theta}+\\cot{\\theta} & =\\frac{\\sin{\\theta}}{\\cos{\\theta}}+\\frac{\\cos{\\theta}}{\\sin{\\theta}}\\\\\n",
    "& = \\frac{\\sin{\\theta}^2+\\cos{\\theta}^2}{\\sin{\\theta}\\cos{\\theta}}\\\\\n",
    "& = \\frac{1}{\\sin{\\theta}\\cos{\\theta}}\\\\\n",
    "& = \\frac{1}{-\\frac{3}{8}}\\\\\n",
    "& =  -\\frac{8}{3}\\\\\n",
    "& = -2.67\n",
    "\\end{align}\n",
    "$"
   ]
  },
  {
   "cell_type": "markdown",
   "metadata": {},
   "source": [
    "- By SymPy"
   ]
  },
  {
   "cell_type": "code",
   "execution_count": null,
   "metadata": {},
   "outputs": [],
   "source": []
  }
 ],
 "metadata": {
  "kernelspec": {
   "display_name": "Python 3",
   "language": "python",
   "name": "python3"
  },
  "language_info": {
   "codemirror_mode": {
    "name": "ipython",
    "version": 3
   },
   "file_extension": ".py",
   "mimetype": "text/x-python",
   "name": "python",
   "nbconvert_exporter": "python",
   "pygments_lexer": "ipython3",
   "version": "3.7.3"
  }
 },
 "nbformat": 4,
 "nbformat_minor": 2
}
